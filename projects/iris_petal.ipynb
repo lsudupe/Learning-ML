{
 "cells": [
  {
   "cell_type": "markdown",
   "source": [
    "Import the dependencies"
   ],
   "metadata": {
    "collapsed": false
   }
  },
  {
   "cell_type": "code",
   "execution_count": 171,
   "outputs": [],
   "source": [
    "import numpy as np\n",
    "import pandas as pd\n",
    "import matplotlib.pyplot as plt\n",
    "import seaborn as sns\n",
    "import sklearn.datasets\n",
    "from sklearn.model_selection import train_test_split\n",
    "from xgboost import XGBRegressor\n",
    "from sklearn import metrics"
   ],
   "metadata": {
    "collapsed": false
   }
  },
  {
   "cell_type": "markdown",
   "source": [
    "Import dataset"
   ],
   "metadata": {
    "collapsed": false
   }
  },
  {
   "cell_type": "code",
   "execution_count": 172,
   "outputs": [],
   "source": [
    "iris = sklearn.datasets.load_iris(as_frame=True)"
   ],
   "metadata": {
    "collapsed": false
   }
  },
  {
   "cell_type": "code",
   "execution_count": 173,
   "outputs": [
    {
     "data": {
      "text/plain": "   sepal length (cm)  sepal width (cm)  petal length (cm)  petal width (cm)\n0                5.1               3.5                1.4               0.2\n1                4.9               3.0                1.4               0.2\n2                4.7               3.2                1.3               0.2\n3                4.6               3.1                1.5               0.2\n4                5.0               3.6                1.4               0.2",
      "text/html": "<div>\n<style scoped>\n    .dataframe tbody tr th:only-of-type {\n        vertical-align: middle;\n    }\n\n    .dataframe tbody tr th {\n        vertical-align: top;\n    }\n\n    .dataframe thead th {\n        text-align: right;\n    }\n</style>\n<table border=\"1\" class=\"dataframe\">\n  <thead>\n    <tr style=\"text-align: right;\">\n      <th></th>\n      <th>sepal length (cm)</th>\n      <th>sepal width (cm)</th>\n      <th>petal length (cm)</th>\n      <th>petal width (cm)</th>\n    </tr>\n  </thead>\n  <tbody>\n    <tr>\n      <th>0</th>\n      <td>5.1</td>\n      <td>3.5</td>\n      <td>1.4</td>\n      <td>0.2</td>\n    </tr>\n    <tr>\n      <th>1</th>\n      <td>4.9</td>\n      <td>3.0</td>\n      <td>1.4</td>\n      <td>0.2</td>\n    </tr>\n    <tr>\n      <th>2</th>\n      <td>4.7</td>\n      <td>3.2</td>\n      <td>1.3</td>\n      <td>0.2</td>\n    </tr>\n    <tr>\n      <th>3</th>\n      <td>4.6</td>\n      <td>3.1</td>\n      <td>1.5</td>\n      <td>0.2</td>\n    </tr>\n    <tr>\n      <th>4</th>\n      <td>5.0</td>\n      <td>3.6</td>\n      <td>1.4</td>\n      <td>0.2</td>\n    </tr>\n  </tbody>\n</table>\n</div>"
     },
     "execution_count": 173,
     "metadata": {},
     "output_type": "execute_result"
    }
   ],
   "source": [
    "data = iris.data\n",
    "data.head()\n",
    "#data.isnull().sum()\n",
    "#data.isna().sum()"
   ],
   "metadata": {
    "collapsed": false
   }
  },
  {
   "cell_type": "code",
   "execution_count": 174,
   "outputs": [
    {
     "data": {
      "text/plain": "<Axes: >"
     },
     "execution_count": 174,
     "metadata": {},
     "output_type": "execute_result"
    },
    {
     "data": {
      "text/plain": "<Figure size 720x720 with 2 Axes>",
      "image/png": "[encoded data removed]"
     },
     "metadata": {
      "needs_background": "light"
     },
     "output_type": "display_data"
    }
   ],
   "source": [
    "## check correlation\n",
    "cor = data.corr()\n",
    "plt.figure(figsize=(10,10))\n",
    "sns.heatmap(cor, cmap=\"Blues\", square=True, annot=True)"
   ],
   "metadata": {
    "collapsed": false
   }
  },
  {
   "cell_type": "code",
   "execution_count": 175,
   "outputs": [
    {
     "data": {
      "text/plain": "       petal length (cm)  petal width (cm)\ncount         150.000000        150.000000\nmean            3.758000          1.199333\nstd             1.765298          0.762238\nmin             1.000000          0.100000\n25%             1.600000          0.300000\n50%             4.350000          1.300000\n75%             5.100000          1.800000\nmax             6.900000          2.500000",
      "text/html": "<div>\n<style scoped>\n    .dataframe tbody tr th:only-of-type {\n        vertical-align: middle;\n    }\n\n    .dataframe tbody tr th {\n        vertical-align: top;\n    }\n\n    .dataframe thead th {\n        text-align: right;\n    }\n</style>\n<table border=\"1\" class=\"dataframe\">\n  <thead>\n    <tr style=\"text-align: right;\">\n      <th></th>\n      <th>petal length (cm)</th>\n      <th>petal width (cm)</th>\n    </tr>\n  </thead>\n  <tbody>\n    <tr>\n      <th>count</th>\n      <td>150.000000</td>\n      <td>150.000000</td>\n    </tr>\n    <tr>\n      <th>mean</th>\n      <td>3.758000</td>\n      <td>1.199333</td>\n    </tr>\n    <tr>\n      <th>std</th>\n      <td>1.765298</td>\n      <td>0.762238</td>\n    </tr>\n    <tr>\n      <th>min</th>\n      <td>1.000000</td>\n      <td>0.100000</td>\n    </tr>\n    <tr>\n      <th>25%</th>\n      <td>1.600000</td>\n      <td>0.300000</td>\n    </tr>\n    <tr>\n      <th>50%</th>\n      <td>4.350000</td>\n      <td>1.300000</td>\n    </tr>\n    <tr>\n      <th>75%</th>\n      <td>5.100000</td>\n      <td>1.800000</td>\n    </tr>\n    <tr>\n      <th>max</th>\n      <td>6.900000</td>\n      <td>2.500000</td>\n    </tr>\n  </tbody>\n</table>\n</div>"
     },
     "execution_count": 175,
     "metadata": {},
     "output_type": "execute_result"
    }
   ],
   "source": [
    "## pick only sepal\n",
    "petal = data.iloc[ :,2:4]\n",
    "petal.describe()"
   ],
   "metadata": {
    "collapsed": false
   }
  },
  {
   "cell_type": "code",
   "execution_count": 176,
   "outputs": [],
   "source": [
    "## separate variables\n",
    "X = petal.iloc[:,0:1].values\n",
    "Y = petal[(\"petal width (cm)\")].values"
   ],
   "metadata": {
    "collapsed": false
   }
  },
  {
   "cell_type": "code",
   "execution_count": 177,
   "outputs": [
    {
     "name": "stdout",
     "output_type": "stream",
     "text": [
      "[[1.4]\n",
      " [1.4]\n",
      " [1.3]\n",
      " [1.5]\n",
      " [1.4]\n",
      " [1.7]\n",
      " [1.4]\n",
      " [1.5]\n",
      " [1.4]\n",
      " [1.5]\n",
      " [1.5]\n",
      " [1.6]\n",
      " [1.4]\n",
      " [1.1]\n",
      " [1.2]\n",
      " [1.5]\n",
      " [1.3]\n",
      " [1.4]\n",
      " [1.7]\n",
      " [1.5]\n",
      " [1.7]\n",
      " [1.5]\n",
      " [1. ]\n",
      " [1.7]\n",
      " [1.9]\n",
      " [1.6]\n",
      " [1.6]\n",
      " [1.5]\n",
      " [1.4]\n",
      " [1.6]\n",
      " [1.6]\n",
      " [1.5]\n",
      " [1.5]\n",
      " [1.4]\n",
      " [1.5]\n",
      " [1.2]\n",
      " [1.3]\n",
      " [1.4]\n",
      " [1.3]\n",
      " [1.5]\n",
      " [1.3]\n",
      " [1.3]\n",
      " [1.3]\n",
      " [1.6]\n",
      " [1.9]\n",
      " [1.4]\n",
      " [1.6]\n",
      " [1.4]\n",
      " [1.5]\n",
      " [1.4]\n",
      " [4.7]\n",
      " [4.5]\n",
      " [4.9]\n",
      " [4. ]\n",
      " [4.6]\n",
      " [4.5]\n",
      " [4.7]\n",
      " [3.3]\n",
      " [4.6]\n",
      " [3.9]\n",
      " [3.5]\n",
      " [4.2]\n",
      " [4. ]\n",
      " [4.7]\n",
      " [3.6]\n",
      " [4.4]\n",
      " [4.5]\n",
      " [4.1]\n",
      " [4.5]\n",
      " [3.9]\n",
      " [4.8]\n",
      " [4. ]\n",
      " [4.9]\n",
      " [4.7]\n",
      " [4.3]\n",
      " [4.4]\n",
      " [4.8]\n",
      " [5. ]\n",
      " [4.5]\n",
      " [3.5]\n",
      " [3.8]\n",
      " [3.7]\n",
      " [3.9]\n",
      " [5.1]\n",
      " [4.5]\n",
      " [4.5]\n",
      " [4.7]\n",
      " [4.4]\n",
      " [4.1]\n",
      " [4. ]\n",
      " [4.4]\n",
      " [4.6]\n",
      " [4. ]\n",
      " [3.3]\n",
      " [4.2]\n",
      " [4.2]\n",
      " [4.2]\n",
      " [4.3]\n",
      " [3. ]\n",
      " [4.1]\n",
      " [6. ]\n",
      " [5.1]\n",
      " [5.9]\n",
      " [5.6]\n",
      " [5.8]\n",
      " [6.6]\n",
      " [4.5]\n",
      " [6.3]\n",
      " [5.8]\n",
      " [6.1]\n",
      " [5.1]\n",
      " [5.3]\n",
      " [5.5]\n",
      " [5. ]\n",
      " [5.1]\n",
      " [5.3]\n",
      " [5.5]\n",
      " [6.7]\n",
      " [6.9]\n",
      " [5. ]\n",
      " [5.7]\n",
      " [4.9]\n",
      " [6.7]\n",
      " [4.9]\n",
      " [5.7]\n",
      " [6. ]\n",
      " [4.8]\n",
      " [4.9]\n",
      " [5.6]\n",
      " [5.8]\n",
      " [6.1]\n",
      " [6.4]\n",
      " [5.6]\n",
      " [5.1]\n",
      " [5.6]\n",
      " [6.1]\n",
      " [5.6]\n",
      " [5.5]\n",
      " [4.8]\n",
      " [5.4]\n",
      " [5.6]\n",
      " [5.1]\n",
      " [5.1]\n",
      " [5.9]\n",
      " [5.7]\n",
      " [5.2]\n",
      " [5. ]\n",
      " [5.2]\n",
      " [5.4]\n",
      " [5.1]]\n"
     ]
    }
   ],
   "source": [
    "print(X)"
   ],
   "metadata": {
    "collapsed": false
   }
  },
  {
   "cell_type": "code",
   "execution_count": 193,
   "outputs": [],
   "source": [
    "class LR:\n",
    "\n",
    "    def __init__(self, n_features):\n",
    "        self.learning_rate = 0.01\n",
    "        self.epochs = 10 #n of iterations\n",
    "        self.__initial_params(n_features)\n",
    "\n",
    "\n",
    "    def __initial_params(self, n_features):\n",
    "        #initialize weigth and bias as zero\n",
    "        self.w = np.zeros(n_features)\n",
    "        self.b = 0\n",
    "        return True\n",
    "\n",
    "    def predictions(self, X):\n",
    "        return np.dot(self.w,X.T) + self.b\n",
    "\n",
    "    def cost(self, X, Y):\n",
    "        L = 1/(2*len(X))*np.sum((self.predictions(X) - Y)**2)\n",
    "        return L\n",
    "\n",
    "    def gradient(self, X, Y):\n",
    "        for iteration in range(self.epochs):\n",
    "            m = len(X) # number of examples\n",
    "            # predictions\n",
    "            predictions = self.predictions(X)\n",
    "            # error\n",
    "            error = predictions - Y\n",
    "            # derivates\n",
    "            dFdW = 1/m * np.dot(error, X)\n",
    "            dFdB = 1/m * np.sum(error)\n",
    "            #update parameters\n",
    "            self.w = self.w - self.learning_rate*dFdW\n",
    "            self.b = self.b - self.learning_rate*dFdB\n",
    "\n",
    "        return self.w, self.b\n"
   ],
   "metadata": {
    "collapsed": false
   }
  },
  {
   "cell_type": "code",
   "execution_count": 195,
   "outputs": [
    {
     "data": {
      "text/plain": "(array([0.26506729]), 0.1697072899022124)"
     },
     "execution_count": 195,
     "metadata": {},
     "output_type": "execute_result"
    }
   ],
   "source": [
    "n_features = X.shape[1]\n",
    "model = LR(n_features)\n",
    "model.gradient(X, Y)"
   ],
   "metadata": {
    "collapsed": false
   }
  },
  {
   "cell_type": "code",
   "execution_count": 198,
   "outputs": [
    {
     "data": {
      "text/plain": "(array([0.28163056]), 0.28332961330489337)"
     },
     "execution_count": 198,
     "metadata": {},
     "output_type": "execute_result"
    }
   ],
   "source": [
    "X_train, X_test, y_train, y_test = train_test_split(X, Y, test_size=0.25, random_state=1)\n",
    "model.gradient(X_train, y_train)"
   ],
   "metadata": {
    "collapsed": false
   }
  },
  {
   "cell_type": "markdown",
   "source": [
    "Linear regression from scratch using Gradient Descent"
   ],
   "metadata": {
    "collapsed": false
   }
  }
 ],
 "metadata": {
  "kernelspec": {
   "display_name": "Python 3",
   "language": "python",
   "name": "python3"
  },
  "language_info": {
   "codemirror_mode": {
    "name": "ipython",
    "version": 2
   },
   "file_extension": ".py",
   "mimetype": "text/x-python",
   "name": "python",
   "nbconvert_exporter": "python",
   "pygments_lexer": "ipython2",
   "version": "2.7.6"
  }
 },
 "nbformat": 4,
 "nbformat_minor": 0
}
